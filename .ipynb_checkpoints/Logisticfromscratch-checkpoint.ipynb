{
 "cells": [
  {
   "cell_type": "markdown",
   "metadata": {},
   "source": [
    "# Logistic Regression Using Python\n",
    "\n",
    "<b>Google</b>: Logistic regression is a statistical model that in its basic form uses a logistic function to model a binary dependent variable, although many more complex extensions exist. In regression analysis, logistic regression (or logit regression) is estimating the parameters of a logistic model (a form of binary regression).\n",
    "\n",
    "In a simple way, Logistic Regression is used for Binary Classification.\n",
    "<br></br>\n",
    "### Think in this way:\n",
    "You are on the beach and you want to separate Red Shells and Blue Shells with a line and you draw a line as shown in the picture on the right side.\n",
    "<br></br>\n",
    "\n",
    "<img src=\"https://github.com/chandangadhavi11/LogisticfromScratch/blob/main/img1.png?raw=true\" align=\"left\"></img>\n",
    "\n",
    "\n",
    "\n"
   ]
  },
  {
   "cell_type": "markdown",
   "metadata": {},
   "source": [
    "Now we have to teach the machine to draw a line that separates the data in the same manner.\n",
    "<br>\n",
    "\n",
    "For teaching Machine to draw a line following formulas will be used:"
   ]
  },
  {
   "cell_type": "markdown",
   "metadata": {},
   "source": [
    "- Sigmoid activation function\n",
    "\n",
    "$$\\sigma(x) = \\frac{1}{1+e^{-x}}$$\n",
    "\n",
    "- Output (prediction) formula\n",
    "\n",
    "$$\\hat{y} = \\sigma(w_1 x_1 + w_2 x_2 + b)$$\n",
    "\n",
    "- Error function\n",
    "\n",
    "$$Error(y, \\hat{y}) = - y \\log(\\hat{y}) - (1-y) \\log(1-\\hat{y})$$\n",
    "\n",
    "- The function that updates the weights\n",
    "\n",
    "$$ w_i \\longrightarrow w_i + \\alpha (y - \\hat{y}) x_i$$\n",
    "\n",
    "$$ b \\longrightarrow b + \\alpha (y - \\hat{y})$$"
   ]
  },
  {
   "cell_type": "markdown",
   "metadata": {},
   "source": [
    "### 1. Import Essential Libraries\n",
    "\n",
    "We will be using some libraries like \n",
    "\n",
    "- <a href=\"https://pandas.pydata.org/pandas-docs/stable/\"><b>Pandas</b></a>: For managing the data\n",
    "<br></br>\n",
    "- <a href=\"https://docs.scipy.org/\"><b>Numpy</b></a>: For data manipulate \n",
    "<br></br>\n",
    "- <a href=\"https://matplotlib.org/\"><b>Matplotlib</b></a>: For visualizing the data\n",
    "<br></br>\n",
    "- <a href=\"https://scikit-learn.org/stable/\"><b>Sklearn</b></a>: Machine learning library"
   ]
  },
  {
   "cell_type": "code",
   "execution_count": 149,
   "metadata": {},
   "outputs": [],
   "source": [
    "import matplotlib.pyplot as plt\n",
    "import numpy as np\n",
    "import pandas as pd\n",
    "from sklearn.metrics import accuracy_score\n",
    "from sklearn.model_selection import train_test_split"
   ]
  },
  {
   "cell_type": "markdown",
   "metadata": {},
   "source": [
    "### 2. Take a look on dataset\n",
    "With Pandas, we can load our data and see our data in a simple table in the proper way. We should look at our data table to see the values that we'll be working with. We can use the head and describe function to look at some sample data and statistics. We can also look at its keys and column names."
   ]
  },
  {
   "cell_type": "code",
   "execution_count": 150,
   "metadata": {},
   "outputs": [
    {
     "data": {
      "text/html": [
       "<div>\n",
       "<style scoped>\n",
       "    .dataframe tbody tr th:only-of-type {\n",
       "        vertical-align: middle;\n",
       "    }\n",
       "\n",
       "    .dataframe tbody tr th {\n",
       "        vertical-align: top;\n",
       "    }\n",
       "\n",
       "    .dataframe thead th {\n",
       "        text-align: right;\n",
       "    }\n",
       "</style>\n",
       "<table border=\"1\" class=\"dataframe\">\n",
       "  <thead>\n",
       "    <tr style=\"text-align: right;\">\n",
       "      <th></th>\n",
       "      <th>0</th>\n",
       "      <th>1</th>\n",
       "      <th>2</th>\n",
       "    </tr>\n",
       "  </thead>\n",
       "  <tbody>\n",
       "    <tr>\n",
       "      <th>0</th>\n",
       "      <td>0.78051</td>\n",
       "      <td>-0.063669</td>\n",
       "      <td>1</td>\n",
       "    </tr>\n",
       "    <tr>\n",
       "      <th>1</th>\n",
       "      <td>0.28774</td>\n",
       "      <td>0.291390</td>\n",
       "      <td>1</td>\n",
       "    </tr>\n",
       "    <tr>\n",
       "      <th>2</th>\n",
       "      <td>0.40714</td>\n",
       "      <td>0.178780</td>\n",
       "      <td>1</td>\n",
       "    </tr>\n",
       "    <tr>\n",
       "      <th>3</th>\n",
       "      <td>0.29230</td>\n",
       "      <td>0.421700</td>\n",
       "      <td>1</td>\n",
       "    </tr>\n",
       "    <tr>\n",
       "      <th>4</th>\n",
       "      <td>0.50922</td>\n",
       "      <td>0.352560</td>\n",
       "      <td>1</td>\n",
       "    </tr>\n",
       "  </tbody>\n",
       "</table>\n",
       "</div>"
      ],
      "text/plain": [
       "         0         1  2\n",
       "0  0.78051 -0.063669  1\n",
       "1  0.28774  0.291390  1\n",
       "2  0.40714  0.178780  1\n",
       "3  0.29230  0.421700  1\n",
       "4  0.50922  0.352560  1"
      ]
     },
     "execution_count": 150,
     "metadata": {},
     "output_type": "execute_result"
    }
   ],
   "source": [
    "data = pd.read_csv('data.csv', header=None)\n",
    "features = np.array(data[[0,1]])\n",
    "targets = np.array(data[2])\n",
    "data.head()"
   ]
  },
  {
   "cell_type": "markdown",
   "metadata": {},
   "source": [
    "We will be using the following functions to scatter points and to view red and blue regions.\n",
    "\n",
    "<b>Note</b>: This following functions will only work when the data is in two dimension"
   ]
  },
  {
   "cell_type": "code",
   "execution_count": 151,
   "metadata": {},
   "outputs": [],
   "source": [
    "def plot_points(X, y):\n",
    "    admitted = X[np.argwhere(y==1)]\n",
    "    rejected = X[np.argwhere(y==0)]\n",
    "    plt.scatter([s[0][0] for s in rejected], [s[0][1] for s in rejected], s = 25, color = 'blue', edgecolor = 'k')\n",
    "    plt.scatter([s[0][0] for s in admitted], [s[0][1] for s in admitted], s = 25, color = 'red', edgecolor = 'k')\n",
    "    \n",
    "def display(m, b, color='g--'):\n",
    "    plt.xlim(-0.1, 1.05)\n",
    "    plt.ylim(-0.1, 1.05)\n",
    "\n",
    "    x = np.arange(-100, 100)\n",
    "    l1 = (m*x)+b\n",
    "    l2 = l1*0 + min(l1)\n",
    "    l3 = l1*0 + max(l1)\n",
    "    plt.plot(x, l1, \"k\")\n",
    "    plt.fill_between(x, l1,l2, alpha=0.25, color=\"red\")\n",
    "    plt.fill_between(x, l1,l3, alpha=0.25, color=\"blue\")\n",
    "    plt.grid(True)"
   ]
  },
  {
   "cell_type": "markdown",
   "metadata": {},
   "source": [
    "### 3. Visualizing Data\n",
    "\n",
    "It is essential to understand and visualize any data we will use in a machine learning model. By visualizing, we can see the trends and general associations of variables."
   ]
  },
  {
   "cell_type": "code",
   "execution_count": 152,
   "metadata": {},
   "outputs": [
    {
     "data": {
      "image/png": "[encoded data removed]",
      "text/plain": [
       "<Figure size 432x288 with 1 Axes>"
      ]
     },
     "metadata": {
      "needs_background": "light"
     },
     "output_type": "display_data"
    }
   ],
   "source": [
    "display(-weights[0] / weights[1], -bias / weights[1])\n",
    "plot_points(features,targets)"
   ]
  },
  {
   "cell_type": "markdown",
   "metadata": {},
   "source": [
    "### 4. Taking random weights and bias\n",
    "\n",
    "This project is also a gradient descent algorithm so that needs to have random weights and bias. Our Logistic Regression algorithm will change weights and bias to come towards a more accurate solution and reduce error as minimum as possible."
   ]
  },
  {
   "cell_type": "code",
   "execution_count": 153,
   "metadata": {},
   "outputs": [
    {
     "name": "stdout",
     "output_type": "stream",
     "text": [
      "Random weights : [ 1.23705131 -0.20228416] \n",
      "Random Bias : 0.42020360458772743\n"
     ]
    }
   ],
   "source": [
    "np.random.seed(11) # after this code the random number will not change again and again\n",
    "n_records, n_features = features.shape # Knowing the shape of the data for generating weights according to that\n",
    "weights = np.random.normal(scale=1 / n_features**.5, size=n_features) # Random weights\n",
    "bias = np.random.rand()# Random bias\n",
    "print(\"Random weights :\", weights, \"\\nRandom Bias :\", bias)"
   ]
  },
  {
   "cell_type": "markdown",
   "metadata": {},
   "source": [
    "### 5. Splitting data into training data and testing data\n",
    "It is necessary to ensure that our model is doing great if the model sees some random and unseen data. "
   ]
  },
  {
   "cell_type": "code",
   "execution_count": 154,
   "metadata": {},
   "outputs": [],
   "source": [
    "X_train, X_test, y_train, y_test = train_test_split(features, targets, test_size = 0.4, random_state = 11)"
   ]
  },
  {
   "cell_type": "markdown",
   "metadata": {},
   "source": [
    "### 6. Training function\n",
    "This is the main algorithm for Logistic regression. This algorithm will help us iterate through all the data, for a number of epochs. Feel free to play with epochs and learnrate"
   ]
  },
  {
   "cell_type": "code",
   "execution_count": 155,
   "metadata": {},
   "outputs": [
    {
     "name": "stdout",
     "output_type": "stream",
     "text": [
      "\n",
      "<========== Epoch 0 ==========>\n",
      "Train loss:  0.6511420845262107\n",
      "Accuracy : 0.6666666666666666\n",
      "================================\n",
      "\n",
      "<========== Epoch 50 ==========>\n",
      "Train loss:  0.17451151885911315\n",
      "Accuracy : 0.9666666666666667\n",
      "================================\n",
      "\n",
      "<========== Epoch 100 ==========>\n",
      "Train loss:  0.13725555934024491\n",
      "Accuracy : 0.9666666666666667\n",
      "================================\n",
      "\n",
      "<========== Epoch 150 ==========>\n",
      "Train loss:  0.12337566106174234\n",
      "Accuracy : 0.95\n",
      "================================\n",
      "\n",
      "<========== Epoch 200 ==========>\n",
      "Train loss:  0.11620464746400153\n",
      "Accuracy : 0.95\n",
      "================================\n",
      "\n",
      "<========== Epoch 250 ==========>\n",
      "Train loss:  0.11188211610801059\n",
      "Accuracy : 0.95\n",
      "================================\n",
      "\n",
      "<========== Epoch 300 ==========>\n",
      "Train loss:  0.10902739640952279\n",
      "Accuracy : 0.95\n",
      "================================\n",
      "\n",
      "<========== Epoch 350 ==========>\n",
      "Train loss:  0.10702384365278633\n",
      "Accuracy : 0.95\n",
      "================================\n",
      "\n",
      "<========== Epoch 400 ==========>\n",
      "Train loss:  0.10555511924375101\n",
      "Accuracy : 0.95\n",
      "================================\n",
      "\n",
      "<========== Epoch 450 ==========>\n",
      "Train loss:  0.10444264729032696\n",
      "Accuracy : 0.95\n",
      "================================\n"
     ]
    }
   ],
   "source": [
    "epochs = 500 # No. of iterations\n",
    "learnrate = 0.1 # leraning rate of the model\n",
    "last_loss = None # For knowing loss at previous epoch\n",
    "errors = np.array([]) # Calculating Errors with every epoch\n",
    "for e in range(epochs):\n",
    "    del_w = np.zeros(weights.shape)\n",
    "    for x, y in zip(X_train, y_train):\n",
    "        output = 1 / (1 + np.exp(-(np.dot(x, weights) + bias))) # Sigmoid activation function\n",
    "        d_error = (y - output) # This is y - y(hat)\n",
    "        weights += learnrate * d_error * x # updating weights \n",
    "        bias += learnrate * d_error # updating weights \n",
    "    out = 1 / (1 + np.exp(-(np.dot(X_train, weights) + bias)))\n",
    "    loss = np.mean( -y_train*np.log(out) - (1 - y_train) * np.log(1-out)) # Error function\n",
    "    errors =  np.append(loss,errors)\n",
    "    \n",
    "    # This following code will show Accuracy and Train loss of the model at certain epochs\n",
    "    if e % (epochs/10) == 0:\n",
    "        print(f\"\\n<========== Epoch {e} ==========>\")\n",
    "        prediction = np.array([int(round(i)) for i in out])\n",
    "        if last_loss and last_loss < loss:\n",
    "            print(\"Train loss: \", loss, \"  WARNING - Loss Increasing\")\n",
    "        else:\n",
    "            print(\"Train loss: \", loss)\n",
    "        print(\"Accuracy :\", np.mean(prediction==y_train))\n",
    "        last_loss = loss\n",
    "        print(\"================================\")"
   ]
  },
  {
   "cell_type": "markdown",
   "metadata": {},
   "source": [
    "### 7. Time to see model with testing data"
   ]
  },
  {
   "cell_type": "code",
   "execution_count": 156,
   "metadata": {},
   "outputs": [
    {
     "data": {
      "image/png": "[encoded data removed]",
      "text/plain": [
       "<Figure size 432x288 with 1 Axes>"
      ]
     },
     "metadata": {
      "needs_background": "light"
     },
     "output_type": "display_data"
    },
    {
     "data": {
      "image/png": "[encoded data removed]",
      "text/plain": [
       "<Figure size 432x288 with 1 Axes>"
      ]
     },
     "metadata": {
      "needs_background": "light"
     },
     "output_type": "display_data"
    }
   ],
   "source": [
    "display(weights[0] / -weights[1], bias / -weights[1])\n",
    "plt.title(\"Test Data\")\n",
    "plot_points(X_test,y_test)\n",
    "plt.show()\n",
    "\n",
    "\n",
    "display(weights[0] / -weights[1], bias / -weights[1])\n",
    "plt.title(\"Training Data\")\n",
    "plot_points(X_train,y_train)\n",
    "\n",
    "plt.show()"
   ]
  },
  {
   "cell_type": "markdown",
   "metadata": {},
   "source": [
    "### 8. Error Plot\n",
    "As the epochs will increase, the error will decrease gradually."
   ]
  },
  {
   "cell_type": "code",
   "execution_count": 157,
   "metadata": {},
   "outputs": [
    {
     "data": {
      "image/png": "[encoded data removed]",
      "text/plain": [
       "<Figure size 432x288 with 1 Axes>"
      ]
     },
     "metadata": {
      "needs_background": "light"
     },
     "output_type": "display_data"
    }
   ],
   "source": [
    "errors = errors[::-1]\n",
    "plt.title(\"Error Plot\")\n",
    "plt.xlabel('Number of epochs')\n",
    "plt.ylabel('Error')\n",
    "plt.plot(errors)\n",
    "plt.show()"
   ]
  },
  {
   "cell_type": "markdown",
   "metadata": {},
   "source": [
    "#### Prediction Function"
   ]
  },
  {
   "cell_type": "code",
   "execution_count": 158,
   "metadata": {},
   "outputs": [],
   "source": [
    "def predict(X_test):\n",
    "    out = 1 / (1 + np.exp(-(np.dot(X_test, weights) + bias)))\n",
    "    prediction = [int(round(i)) for i in out]\n",
    "    return prediction"
   ]
  },
  {
   "cell_type": "markdown",
   "metadata": {},
   "source": [
    "#### Accuracy of the model with training data"
   ]
  },
  {
   "cell_type": "code",
   "execution_count": 159,
   "metadata": {},
   "outputs": [
    {
     "name": "stdout",
     "output_type": "stream",
     "text": [
      "Accuracy of the model : 0.875\n"
     ]
    }
   ],
   "source": [
    "print(\"Accuracy of the model :\", np.mean(predict(X_test)==y_test))"
   ]
  },
  {
   "cell_type": "markdown",
   "metadata": {},
   "source": [
    "## Checking the accuracy of the model using sklearn libraries"
   ]
  },
  {
   "cell_type": "code",
   "execution_count": 160,
   "metadata": {},
   "outputs": [],
   "source": [
    "from sklearn.linear_model import LogisticRegression\n",
    "from sklearn.linear_model import Perceptron"
   ]
  },
  {
   "cell_type": "markdown",
   "metadata": {},
   "source": [
    "### Logistic Regression"
   ]
  },
  {
   "cell_type": "code",
   "execution_count": 161,
   "metadata": {},
   "outputs": [
    {
     "name": "stdout",
     "output_type": "stream",
     "text": [
      "Accuracy of Logistic Regression by sklearn: 0.875\n"
     ]
    }
   ],
   "source": [
    "model = LogisticRegression()\n",
    "model.fit(X_train, y_train)\n",
    "print(\"Accuracy of Logistic Regression by sklearn:\", accuracy_score(model.predict(X_test),y_test))"
   ]
  },
  {
   "cell_type": "markdown",
   "metadata": {},
   "source": [
    "### Perceptron"
   ]
  },
  {
   "cell_type": "code",
   "execution_count": 163,
   "metadata": {},
   "outputs": [
    {
     "name": "stdout",
     "output_type": "stream",
     "text": [
      "Accuracy of Perceptron by sklearn: 0.875\n"
     ]
    }
   ],
   "source": [
    "model = Perceptron()\n",
    "model.fit(X_train, y_train)\n",
    "print(\"Accuracy of Perceptron by sklearn:\", accuracy_score(model.predict(X_test),y_test))"
   ]
  },
  {
   "cell_type": "code",
   "execution_count": null,
   "metadata": {},
   "outputs": [],
   "source": []
  }
 ],
 "metadata": {
  "kernelspec": {
   "display_name": "Python 3",
   "language": "python",
   "name": "python3"
  },
  "language_info": {
   "codemirror_mode": {
    "name": "ipython",
    "version": 3
   },
   "file_extension": ".py",
   "mimetype": "text/x-python",
   "name": "python",
   "nbconvert_exporter": "python",
   "pygments_lexer": "ipython3",
   "version": "3.7.6"
  }
 },
 "nbformat": 4,
 "nbformat_minor": 4
}
